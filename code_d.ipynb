{
 "cells": [
  {
   "cell_type": "code",
   "execution_count": 1,
   "metadata": {},
   "outputs": [],
   "source": [
    "from pandas import *\n",
    "from math import *\n",
    "import matplotlib\n",
    "matplotlib.use('nbagg')\n",
    "import matplotlib.pyplot as plt\n",
    "import numpy as np\n",
    "import pandas as pd\n",
    "%matplotlib inline\n"
   ]
  },
  {
   "cell_type": "code",
   "execution_count": 2,
   "metadata": {},
   "outputs": [
    {
     "data": {
      "text/html": [
       "<div>\n",
       "<style scoped>\n",
       "    .dataframe tbody tr th:only-of-type {\n",
       "        vertical-align: middle;\n",
       "    }\n",
       "\n",
       "    .dataframe tbody tr th {\n",
       "        vertical-align: top;\n",
       "    }\n",
       "\n",
       "    .dataframe thead th {\n",
       "        text-align: right;\n",
       "    }\n",
       "</style>\n",
       "<table border=\"1\" class=\"dataframe\">\n",
       "  <thead>\n",
       "    <tr style=\"text-align: right;\">\n",
       "      <th></th>\n",
       "      <th>No.</th>\n",
       "      <th>Time</th>\n",
       "      <th>Source</th>\n",
       "      <th>Destination</th>\n",
       "      <th>Protocol</th>\n",
       "      <th>Length</th>\n",
       "      <th>ssl_len</th>\n",
       "      <th>Info</th>\n",
       "    </tr>\n",
       "  </thead>\n",
       "  <tbody>\n",
       "    <tr>\n",
       "      <th>0</th>\n",
       "      <td>1</td>\n",
       "      <td>0.000000</td>\n",
       "      <td>SuperMic_dc:ba:c7</td>\n",
       "      <td>Broadcast</td>\n",
       "      <td>ARP</td>\n",
       "      <td>60</td>\n",
       "      <td>NaN</td>\n",
       "      <td>Who has 192.168.1.163? Tell 192.168.1.248</td>\n",
       "    </tr>\n",
       "    <tr>\n",
       "      <th>1</th>\n",
       "      <td>2</td>\n",
       "      <td>0.156770</td>\n",
       "      <td>192.168.1.108</td>\n",
       "      <td>224.0.0.251</td>\n",
       "      <td>MDNS</td>\n",
       "      <td>86</td>\n",
       "      <td>NaN</td>\n",
       "      <td>Standard query 0x96e0 PTR _ipfs-discovery._udp...</td>\n",
       "    </tr>\n",
       "    <tr>\n",
       "      <th>2</th>\n",
       "      <td>3</td>\n",
       "      <td>0.315904</td>\n",
       "      <td>192.168.1.238</td>\n",
       "      <td>10.6.0.11</td>\n",
       "      <td>DNS</td>\n",
       "      <td>75</td>\n",
       "      <td>NaN</td>\n",
       "      <td>Standard query 0x5a83 A www.netflix.com</td>\n",
       "    </tr>\n",
       "    <tr>\n",
       "      <th>3</th>\n",
       "      <td>4</td>\n",
       "      <td>0.321660</td>\n",
       "      <td>192.168.1.238</td>\n",
       "      <td>10.6.0.11</td>\n",
       "      <td>DNS</td>\n",
       "      <td>89</td>\n",
       "      <td>NaN</td>\n",
       "      <td>Standard query 0x8439 A clientservices.googlea...</td>\n",
       "    </tr>\n",
       "    <tr>\n",
       "      <th>4</th>\n",
       "      <td>5</td>\n",
       "      <td>0.323960</td>\n",
       "      <td>10.6.0.11</td>\n",
       "      <td>192.168.1.238</td>\n",
       "      <td>DNS</td>\n",
       "      <td>316</td>\n",
       "      <td>NaN</td>\n",
       "      <td>Standard query response 0x8439 A clientservice...</td>\n",
       "    </tr>\n",
       "  </tbody>\n",
       "</table>\n",
       "</div>"
      ],
      "text/plain": [
       "   No.      Time             Source    Destination Protocol  Length ssl_len  \\\n",
       "0    1  0.000000  SuperMic_dc:ba:c7      Broadcast      ARP      60     NaN   \n",
       "1    2  0.156770      192.168.1.108    224.0.0.251     MDNS      86     NaN   \n",
       "2    3  0.315904      192.168.1.238      10.6.0.11      DNS      75     NaN   \n",
       "3    4  0.321660      192.168.1.238      10.6.0.11      DNS      89     NaN   \n",
       "4    5  0.323960          10.6.0.11  192.168.1.238      DNS     316     NaN   \n",
       "\n",
       "                                                Info  \n",
       "0          Who has 192.168.1.163? Tell 192.168.1.248  \n",
       "1  Standard query 0x96e0 PTR _ipfs-discovery._udp...  \n",
       "2            Standard query 0x5a83 A www.netflix.com  \n",
       "3  Standard query 0x8439 A clientservices.googlea...  \n",
       "4  Standard query response 0x8439 A clientservice...  "
      ]
     },
     "execution_count": 2,
     "metadata": {},
     "output_type": "execute_result"
    }
   ],
   "source": [
    "# Read the csv\n",
    "pcap_main = read_csv('./lab-pc/trace1/test.csv', index_col=None, encoding='utf-8')\n",
    "pcap_main.head()\n"
   ]
  },
  {
   "cell_type": "code",
   "execution_count": 3,
   "metadata": {},
   "outputs": [],
   "source": [
    "# Create new data frame to plot the get requests\n",
    "pcap_get = pcap_main[pcap_main['Destination']== '45.57.50.133']"
   ]
  },
  {
   "cell_type": "code",
   "execution_count": 4,
   "metadata": {},
   "outputs": [],
   "source": [
    "pkt_cnt = [0] # number of Packets at i'th sec \n",
    "d_time = []  # list of time \n",
    "start_time = floor(pcap_get.iloc[0,1]) # start time of the first packet in the list\n",
    "\n",
    "i = 0\n",
    "d_time.append(start_time)\n",
    "\n",
    "for _,packet in pcap_get.iterrows():\n",
    "    curr_time = floor(packet.Time)\n",
    "    if curr_time > start_time:\n",
    "        i += 1\n",
    "        pkt_cnt.append(0)\n",
    "        d_time.append(curr_time)\n",
    "        start_time = curr_time\n",
    "    pkt_cnt[i]+= 1\n",
    "    "
   ]
  },
  {
   "cell_type": "code",
   "execution_count": 5,
   "metadata": {},
   "outputs": [
    {
     "data": {
      "image/png": "[encoded data removed]",
      "text/plain": [
       "<Figure size 1440x720 with 1 Axes>"
      ]
     },
     "metadata": {
      "needs_background": "dark"
     },
     "output_type": "display_data"
    }
   ],
   "source": [
    "plt.figure(figsize=(20 ,10)) \n",
    "plt.bar(d_time, pkt_cnt)\n",
    "plt.ylabel('No of packerts exchanged')\n",
    "plt.xlabel('time in sec')\n",
    "plt.title(\"Default choice\")\n",
    "plt.tick_params(axis='x', colors='white')\n",
    "plt.tick_params(axis='y', colors='white')\n",
    "plt.show()"
   ]
  },
  {
   "cell_type": "code",
   "execution_count": 6,
   "metadata": {},
   "outputs": [
    {
     "name": "stdout",
     "output_type": "stream",
     "text": [
      "[(20, 26), (164, 168), (164, 170), (219, 224), (494, 500), (812, 815), (812, 819), (850, 854)]\n"
     ]
    }
   ],
   "source": [
    "# Finding peaks\n",
    "delta = 0\n",
    "th = 350\n",
    "peaks =[] # May contain duplicates\n",
    "for i in range(1,len(pkt_cnt)):\n",
    "    delta = pkt_cnt[i]-pkt_cnt[i-1]\n",
    "    if delta > th:\n",
    "        startTime = d_time[i]\n",
    "    elif delta < -th:\n",
    "        endTime = d_time[i]\n",
    "        peaks.append((startTime, endTime))\n",
    "print(peaks)"
   ]
  },
  {
   "cell_type": "code",
   "execution_count": 7,
   "metadata": {},
   "outputs": [
    {
     "name": "stdout",
     "output_type": "stream",
     "text": [
      "[(20, 26), (164, 170), (219, 224), (494, 500), (812, 819), (850, 854)]\n"
     ]
    }
   ],
   "source": [
    "# range with no duplicates\n",
    "f_peaks = [] # Final peaks with hopefuly no duplicates\n",
    "for i in range(len(peaks)-1):\n",
    "    if peaks[i][0] != peaks[i+1][0]:\n",
    "        f_peaks.append(peaks[i])\n",
    "f_peaks.append(peaks[i+1])\n",
    "\n",
    "print(f_peaks)"
   ]
  },
  {
   "cell_type": "code",
   "execution_count": 8,
   "metadata": {},
   "outputs": [
    {
     "data": {
      "text/html": [
       "<div>\n",
       "<style scoped>\n",
       "    .dataframe tbody tr th:only-of-type {\n",
       "        vertical-align: middle;\n",
       "    }\n",
       "\n",
       "    .dataframe tbody tr th {\n",
       "        vertical-align: top;\n",
       "    }\n",
       "\n",
       "    .dataframe thead th {\n",
       "        text-align: right;\n",
       "    }\n",
       "</style>\n",
       "<table border=\"1\" class=\"dataframe\">\n",
       "  <thead>\n",
       "    <tr style=\"text-align: right;\">\n",
       "      <th></th>\n",
       "      <th>No.</th>\n",
       "      <th>Time</th>\n",
       "      <th>Source</th>\n",
       "      <th>Destination</th>\n",
       "      <th>Protocol</th>\n",
       "      <th>Length</th>\n",
       "      <th>ssl_len</th>\n",
       "      <th>Info</th>\n",
       "    </tr>\n",
       "  </thead>\n",
       "  <tbody>\n",
       "    <tr>\n",
       "      <th>0</th>\n",
       "      <td>1</td>\n",
       "      <td>0.000000</td>\n",
       "      <td>SuperMic_dc:ba:c7</td>\n",
       "      <td>Broadcast</td>\n",
       "      <td>ARP</td>\n",
       "      <td>60</td>\n",
       "      <td>-1</td>\n",
       "      <td>Who has 192.168.1.163? Tell 192.168.1.248</td>\n",
       "    </tr>\n",
       "    <tr>\n",
       "      <th>1</th>\n",
       "      <td>2</td>\n",
       "      <td>0.156770</td>\n",
       "      <td>192.168.1.108</td>\n",
       "      <td>224.0.0.251</td>\n",
       "      <td>MDNS</td>\n",
       "      <td>86</td>\n",
       "      <td>-1</td>\n",
       "      <td>Standard query 0x96e0 PTR _ipfs-discovery._udp...</td>\n",
       "    </tr>\n",
       "    <tr>\n",
       "      <th>2</th>\n",
       "      <td>3</td>\n",
       "      <td>0.315904</td>\n",
       "      <td>192.168.1.238</td>\n",
       "      <td>10.6.0.11</td>\n",
       "      <td>DNS</td>\n",
       "      <td>75</td>\n",
       "      <td>-1</td>\n",
       "      <td>Standard query 0x5a83 A www.netflix.com</td>\n",
       "    </tr>\n",
       "    <tr>\n",
       "      <th>3</th>\n",
       "      <td>4</td>\n",
       "      <td>0.321660</td>\n",
       "      <td>192.168.1.238</td>\n",
       "      <td>10.6.0.11</td>\n",
       "      <td>DNS</td>\n",
       "      <td>89</td>\n",
       "      <td>-1</td>\n",
       "      <td>Standard query 0x8439 A clientservices.googlea...</td>\n",
       "    </tr>\n",
       "    <tr>\n",
       "      <th>4</th>\n",
       "      <td>5</td>\n",
       "      <td>0.323960</td>\n",
       "      <td>10.6.0.11</td>\n",
       "      <td>192.168.1.238</td>\n",
       "      <td>DNS</td>\n",
       "      <td>316</td>\n",
       "      <td>-1</td>\n",
       "      <td>Standard query response 0x8439 A clientservice...</td>\n",
       "    </tr>\n",
       "  </tbody>\n",
       "</table>\n",
       "</div>"
      ],
      "text/plain": [
       "   No.      Time             Source    Destination Protocol  Length ssl_len  \\\n",
       "0    1  0.000000  SuperMic_dc:ba:c7      Broadcast      ARP      60      -1   \n",
       "1    2  0.156770      192.168.1.108    224.0.0.251     MDNS      86      -1   \n",
       "2    3  0.315904      192.168.1.238      10.6.0.11      DNS      75      -1   \n",
       "3    4  0.321660      192.168.1.238      10.6.0.11      DNS      89      -1   \n",
       "4    5  0.323960          10.6.0.11  192.168.1.238      DNS     316      -1   \n",
       "\n",
       "                                                Info  \n",
       "0          Who has 192.168.1.163? Tell 192.168.1.248  \n",
       "1  Standard query 0x96e0 PTR _ipfs-discovery._udp...  \n",
       "2            Standard query 0x5a83 A www.netflix.com  \n",
       "3  Standard query 0x8439 A clientservices.googlea...  \n",
       "4  Standard query response 0x8439 A clientservice...  "
      ]
     },
     "execution_count": 8,
     "metadata": {},
     "output_type": "execute_result"
    }
   ],
   "source": [
    "# filling all unknown ssl.record.length with -1\n",
    "pcap_main.fillna(-1, inplace=True)\n",
    "pcap_main.head()"
   ]
  },
  {
   "cell_type": "code",
   "execution_count": 9,
   "metadata": {},
   "outputs": [
    {
     "data": {
      "text/plain": [
       "(123379, 8)"
      ]
     },
     "execution_count": 9,
     "metadata": {},
     "output_type": "execute_result"
    }
   ],
   "source": [
    "# renaming Length.1(ssl.record.length) to ssllen and Length(packet/frame length) to plen\n",
    "pcap_main.rename(index=str, columns={\"ssl_len\": \"ssllen\", \"Length\": \"plen\"}, inplace=True);\n",
    "pcap_main.shape"
   ]
  },
  {
   "cell_type": "code",
   "execution_count": 10,
   "metadata": {},
   "outputs": [],
   "source": [
    "# Creating new dataframe which contain packet length in between 500 and 700\n",
    "# temp = pcap_main.query('500<plen<1000')\n",
    "# temp.shape\n",
    "# temp.iloc[0:3,:]\n",
    "# packet length is different for different computers."
   ]
  },
  {
   "cell_type": "code",
   "execution_count": 11,
   "metadata": {},
   "outputs": [
    {
     "data": {
      "text/plain": [
       "(5695, 8)"
      ]
     },
     "execution_count": 11,
     "metadata": {},
     "output_type": "execute_result"
    }
   ],
   "source": [
    "temp = pcap_main.query('Info == \"Application Data\"') # filtering to get only the application data\n",
    "temp.shape"
   ]
  },
  {
   "cell_type": "code",
   "execution_count": 12,
   "metadata": {},
   "outputs": [
    {
     "name": "stdout",
     "output_type": "stream",
     "text": [
      "(63, 8)\n"
     ]
    },
    {
     "name": "stderr",
     "output_type": "stream",
     "text": [
      "C:\\ProgramData\\Anaconda3\\lib\\site-packages\\ipykernel_launcher.py:1: SettingWithCopyWarning: \n",
      "A value is trying to be set on a copy of a slice from a DataFrame.\n",
      "Try using .loc[row_indexer,col_indexer] = value instead\n",
      "\n",
      "See the caveats in the documentation: http://pandas.pydata.org/pandas-docs/stable/indexing.html#indexing-view-versus-copy\n",
      "  \"\"\"Entry point for launching an IPython kernel.\n"
     ]
    },
    {
     "data": {
      "text/html": [
       "<div>\n",
       "<style scoped>\n",
       "    .dataframe tbody tr th:only-of-type {\n",
       "        vertical-align: middle;\n",
       "    }\n",
       "\n",
       "    .dataframe tbody tr th {\n",
       "        vertical-align: top;\n",
       "    }\n",
       "\n",
       "    .dataframe thead th {\n",
       "        text-align: right;\n",
       "    }\n",
       "</style>\n",
       "<table border=\"1\" class=\"dataframe\">\n",
       "  <thead>\n",
       "    <tr style=\"text-align: right;\">\n",
       "      <th></th>\n",
       "      <th>No.</th>\n",
       "      <th>Time</th>\n",
       "      <th>Source</th>\n",
       "      <th>Destination</th>\n",
       "      <th>Protocol</th>\n",
       "      <th>plen</th>\n",
       "      <th>ssllen</th>\n",
       "      <th>Info</th>\n",
       "    </tr>\n",
       "  </thead>\n",
       "  <tbody>\n",
       "    <tr>\n",
       "      <th>1645</th>\n",
       "      <td>1646</td>\n",
       "      <td>5.319722</td>\n",
       "      <td>45.57.51.138</td>\n",
       "      <td>192.168.1.238</td>\n",
       "      <td>TLSv1.2</td>\n",
       "      <td>2932</td>\n",
       "      <td>6217</td>\n",
       "      <td>Application Data</td>\n",
       "    </tr>\n",
       "    <tr>\n",
       "      <th>6312</th>\n",
       "      <td>6313</td>\n",
       "      <td>7.735903</td>\n",
       "      <td>45.57.51.138</td>\n",
       "      <td>192.168.1.238</td>\n",
       "      <td>TLSv1.2</td>\n",
       "      <td>2475</td>\n",
       "      <td>6171</td>\n",
       "      <td>Application Data</td>\n",
       "    </tr>\n",
       "    <tr>\n",
       "      <th>6707</th>\n",
       "      <td>6708</td>\n",
       "      <td>7.986150</td>\n",
       "      <td>45.57.51.138</td>\n",
       "      <td>192.168.1.238</td>\n",
       "      <td>TLSv1.2</td>\n",
       "      <td>2926</td>\n",
       "      <td>6563</td>\n",
       "      <td>Application Data</td>\n",
       "    </tr>\n",
       "    <tr>\n",
       "      <th>8365</th>\n",
       "      <td>8366</td>\n",
       "      <td>9.136865</td>\n",
       "      <td>45.57.51.138</td>\n",
       "      <td>192.168.1.238</td>\n",
       "      <td>TLSv1.2</td>\n",
       "      <td>2719</td>\n",
       "      <td>6629</td>\n",
       "      <td>Application Data</td>\n",
       "    </tr>\n",
       "    <tr>\n",
       "      <th>8689</th>\n",
       "      <td>8690</td>\n",
       "      <td>9.834652</td>\n",
       "      <td>192.168.1.238</td>\n",
       "      <td>52.18.15.9</td>\n",
       "      <td>TLSv1.2</td>\n",
       "      <td>360</td>\n",
       "      <td>6081</td>\n",
       "      <td>Application Data</td>\n",
       "    </tr>\n",
       "  </tbody>\n",
       "</table>\n",
       "</div>"
      ],
      "text/plain": [
       "       No.      Time         Source    Destination Protocol  plen  ssllen  \\\n",
       "1645  1646  5.319722   45.57.51.138  192.168.1.238  TLSv1.2  2932    6217   \n",
       "6312  6313  7.735903   45.57.51.138  192.168.1.238  TLSv1.2  2475    6171   \n",
       "6707  6708  7.986150   45.57.51.138  192.168.1.238  TLSv1.2  2926    6563   \n",
       "8365  8366  9.136865   45.57.51.138  192.168.1.238  TLSv1.2  2719    6629   \n",
       "8689  8690  9.834652  192.168.1.238     52.18.15.9  TLSv1.2   360    6081   \n",
       "\n",
       "                  Info  \n",
       "1645  Application Data  \n",
       "6312  Application Data  \n",
       "6707  Application Data  \n",
       "8365  Application Data  \n",
       "8689  Application Data  "
      ]
     },
     "execution_count": 12,
     "metadata": {},
     "output_type": "execute_result"
    }
   ],
   "source": [
    "temp['ssllen'] = temp.ssllen.astype(int, copy=False) # converting the ssllen field to integer type\n",
    "temp = temp.query('6000<ssllen<7000') # filtering to get ssllen in the 6000 to 7000 range.\n",
    "print(temp.shape)\n",
    "temp.head()"
   ]
  },
  {
   "cell_type": "code",
   "execution_count": 13,
   "metadata": {
    "scrolled": false
   },
   "outputs": [
    {
     "name": "stdout",
     "output_type": "stream",
     "text": [
      "(10, 8)\n"
     ]
    },
    {
     "data": {
      "text/html": [
       "<div>\n",
       "<style scoped>\n",
       "    .dataframe tbody tr th:only-of-type {\n",
       "        vertical-align: middle;\n",
       "    }\n",
       "\n",
       "    .dataframe tbody tr th {\n",
       "        vertical-align: top;\n",
       "    }\n",
       "\n",
       "    .dataframe thead th {\n",
       "        text-align: right;\n",
       "    }\n",
       "</style>\n",
       "<table border=\"1\" class=\"dataframe\">\n",
       "  <thead>\n",
       "    <tr style=\"text-align: right;\">\n",
       "      <th></th>\n",
       "      <th>No.</th>\n",
       "      <th>Time</th>\n",
       "      <th>Source</th>\n",
       "      <th>Destination</th>\n",
       "      <th>Protocol</th>\n",
       "      <th>plen</th>\n",
       "      <th>ssllen</th>\n",
       "      <th>Info</th>\n",
       "    </tr>\n",
       "  </thead>\n",
       "  <tbody>\n",
       "    <tr>\n",
       "      <th>8689</th>\n",
       "      <td>8690</td>\n",
       "      <td>9.834652</td>\n",
       "      <td>192.168.1.238</td>\n",
       "      <td>52.18.15.9</td>\n",
       "      <td>TLSv1.2</td>\n",
       "      <td>360</td>\n",
       "      <td>6081</td>\n",
       "      <td>Application Data</td>\n",
       "    </tr>\n",
       "    <tr>\n",
       "      <th>31587</th>\n",
       "      <td>31588</td>\n",
       "      <td>26.370065</td>\n",
       "      <td>192.168.1.238</td>\n",
       "      <td>52.18.15.9</td>\n",
       "      <td>TLSv1.2</td>\n",
       "      <td>719</td>\n",
       "      <td>6440</td>\n",
       "      <td>Application Data</td>\n",
       "    </tr>\n",
       "    <tr>\n",
       "      <th>34477</th>\n",
       "      <td>34478</td>\n",
       "      <td>156.559322</td>\n",
       "      <td>192.168.1.238</td>\n",
       "      <td>52.18.15.9</td>\n",
       "      <td>TLSv1.2</td>\n",
       "      <td>704</td>\n",
       "      <td>6425</td>\n",
       "      <td>Application Data</td>\n",
       "    </tr>\n",
       "    <tr>\n",
       "      <th>36674</th>\n",
       "      <td>36675</td>\n",
       "      <td>164.988952</td>\n",
       "      <td>192.168.1.238</td>\n",
       "      <td>52.18.15.9</td>\n",
       "      <td>TLSv1.2</td>\n",
       "      <td>919</td>\n",
       "      <td>6640</td>\n",
       "      <td>Application Data</td>\n",
       "    </tr>\n",
       "    <tr>\n",
       "      <th>53529</th>\n",
       "      <td>53530</td>\n",
       "      <td>222.450701</td>\n",
       "      <td>192.168.1.238</td>\n",
       "      <td>52.18.15.9</td>\n",
       "      <td>TLSv1.2</td>\n",
       "      <td>893</td>\n",
       "      <td>6614</td>\n",
       "      <td>Application Data</td>\n",
       "    </tr>\n",
       "  </tbody>\n",
       "</table>\n",
       "</div>"
      ],
      "text/plain": [
       "         No.        Time         Source Destination Protocol  plen  ssllen  \\\n",
       "8689    8690    9.834652  192.168.1.238  52.18.15.9  TLSv1.2   360    6081   \n",
       "31587  31588   26.370065  192.168.1.238  52.18.15.9  TLSv1.2   719    6440   \n",
       "34477  34478  156.559322  192.168.1.238  52.18.15.9  TLSv1.2   704    6425   \n",
       "36674  36675  164.988952  192.168.1.238  52.18.15.9  TLSv1.2   919    6640   \n",
       "53529  53530  222.450701  192.168.1.238  52.18.15.9  TLSv1.2   893    6614   \n",
       "\n",
       "                   Info  \n",
       "8689   Application Data  \n",
       "31587  Application Data  \n",
       "34477  Application Data  \n",
       "36674  Application Data  \n",
       "53529  Application Data  "
      ]
     },
     "execution_count": 13,
     "metadata": {},
     "output_type": "execute_result"
    }
   ],
   "source": [
    "temp = temp.query('Source == \"192.168.1.238\"') # cl2 are sent from client system\n",
    "print(temp.shape)\n",
    "temp.head()"
   ]
  },
  {
   "cell_type": "code",
   "execution_count": 14,
   "metadata": {},
   "outputs": [
    {
     "name": "stdout",
     "output_type": "stream",
     "text": [
      "cl2 length: [360, 719, 704, 919, 893, 500, 612, 497, 452, 542] \n",
      "cl2 occurance time: [9, 26, 156, 164, 222, 498, 814, 851, 911, 939]\n"
     ]
    }
   ],
   "source": [
    "cl2_cnt = [0]\n",
    "cl2_time = []\n",
    "f_no = []\n",
    "start_time = floor(temp.iloc[0,1])\n",
    "\n",
    "cl2_time.append(start_time)\n",
    "i = 0\n",
    "for _,packet in temp.iterrows():\n",
    "    f_no.append(packet['No.'])\n",
    "    curr_time = floor(packet.Time)\n",
    "    if curr_time > start_time:\n",
    "        i += 1\n",
    "        cl2_cnt.append(0)\n",
    "        cl2_time.append(curr_time)\n",
    "        start_time = curr_time\n",
    "    cl2_cnt[i]+= packet['plen']\n",
    "    \n",
    "print(\"cl2 length: {} \\ncl2 occurance time: {}\".format(cl2_cnt, cl2_time))"
   ]
  },
  {
   "cell_type": "code",
   "execution_count": 15,
   "metadata": {},
   "outputs": [
    {
     "data": {
      "image/png": "[encoded data removed]",
      "text/plain": [
       "<Figure size 1440x720 with 1 Axes>"
      ]
     },
     "metadata": {
      "needs_background": "dark"
     },
     "output_type": "display_data"
    }
   ],
   "source": [
    "%matplotlib inline\n",
    "plt.figure(figsize=(20,10))\n",
    "plt.bar(d_time, pkt_cnt)\n",
    "plt.bar(cl2_time, cl2_cnt, color = 'red')\n",
    "plt.ylabel('No of packerts exchanged')\n",
    "plt.xlabel('time in sec')\n",
    "plt.title(\"Default choice\")\n",
    "plt.tick_params(axis='x', colors='white')\n",
    "plt.tick_params(axis='y', colors='white')\n",
    "plt.show()\n"
   ]
  },
  {
   "cell_type": "code",
   "execution_count": 16,
   "metadata": {},
   "outputs": [],
   "source": [
    "# [{'time':x, 'frame_no':y } for x, y in zip(d,f_no)]"
   ]
  },
  {
   "cell_type": "code",
   "execution_count": 17,
   "metadata": {},
   "outputs": [],
   "source": [
    "final = []\n",
    "for i in range(len(cl2_time)):\n",
    "#     print(\"processing : {}\".format(d[i]))\n",
    "    for peak in f_peaks:\n",
    "        if cl2_time[i]>= peak[0] and cl2_time[i]<=peak[-1]:\n",
    "#             print(\"found in range : {}\".format(peak))\n",
    "            final.append(cl2_time[i])\n",
    "#         else:\n",
    "#             print(\"not found in any range\")"
   ]
  },
  {
   "cell_type": "code",
   "execution_count": 18,
   "metadata": {},
   "outputs": [
    {
     "name": "stdout",
     "output_type": "stream",
     "text": [
      "using only length filter: [9, 26, 156, 164, 222, 498, 814, 851, 911, 939] \n",
      "final cl2's: [26, 164, 222, 498, 814, 851]\n"
     ]
    }
   ],
   "source": [
    "print(\"using only length filter: {} \\nfinal cl2's: {}\".format(cl2_time, final))"
   ]
  },
  {
   "cell_type": "code",
   "execution_count": 23,
   "metadata": {},
   "outputs": [],
   "source": [
    "cl2_cnt = [0]\n",
    "cl2_time = []\n",
    "f_no = []\n",
    "start_time = temp.iloc[0,1]\n",
    "\n",
    "cl2_time.append(start_time)\n",
    "i = 0\n",
    "for _,packet in temp.iterrows():\n",
    "    f_no.append(packet['No.'])\n",
    "    curr_time = packet.Time\n",
    "    if curr_time > start_time:\n",
    "        i += 1\n",
    "        cl2_cnt.append(0)\n",
    "        cl2_time.append(curr_time)\n",
    "        start_time = curr_time\n",
    "    cl2_cnt[i]+= packet['plen']"
   ]
  },
  {
   "cell_type": "code",
   "execution_count": 24,
   "metadata": {},
   "outputs": [
    {
     "name": "stdout",
     "output_type": "stream",
     "text": [
      "cl2 length: [360, 719, 704, 919, 893, 500, 612, 497, 452, 542] \n",
      "cl2 occurance time: [9.834651876, 26.370064608000003, 156.55932232, 164.98895172299999, 222.45070100599997, 498.216874052, 814.3356791639999, 851.384588631, 911.429744343, 939.976741252]\n"
     ]
    }
   ],
   "source": [
    "print(\"cl2 length: {} \\ncl2 occurance time: {}\".format(cl2_cnt, cl2_time))"
   ]
  },
  {
   "cell_type": "code",
   "execution_count": 25,
   "metadata": {},
   "outputs": [
    {
     "name": "stdout",
     "output_type": "stream",
     "text": [
      "[[9.834651876, 8690], [26.370064608000003, 31588], [156.55932232, 34478], [164.98895172299999, 36675], [222.45070100599997, 53530], [498.216874052, 76590], [814.3356791639999, 94578], [851.384588631, 111949], [911.429744343, 120901], [939.976741252, 123316]]\n"
     ]
    }
   ],
   "source": [
    "ll = [[x,y] for x, y in zip(cl2_time,f_no)]\n",
    "print(ll)"
   ]
  },
  {
   "cell_type": "code",
   "execution_count": 27,
   "metadata": {},
   "outputs": [
    {
     "name": "stdout",
     "output_type": "stream",
     "text": [
      "[[164.98895172299999, 36675], [222.45070100599997, 53530], [498.216874052, 76590], [814.3356791639999, 94578], [851.384588631, 111949]]\n"
     ]
    }
   ],
   "source": [
    "final_cl2 = []\n",
    "for l in ll:\n",
    "#     print(\"processing : {}\".format(l))\n",
    "    for peak in f_peaks:\n",
    "        if l[0]>= peak[0] and l[0]<=peak[-1]:\n",
    "            final_cl2.append(l)\n",
    "            \n",
    "print(final_cl2)"
   ]
  },
  {
   "cell_type": "code",
   "execution_count": null,
   "metadata": {},
   "outputs": [],
   "source": []
  }
 ],
 "metadata": {
  "kernelspec": {
   "display_name": "Python 3",
   "language": "python",
   "name": "python3"
  },
  "language_info": {
   "codemirror_mode": {
    "name": "ipython",
    "version": 3
   },
   "file_extension": ".py",
   "mimetype": "text/x-python",
   "name": "python",
   "nbconvert_exporter": "python",
   "pygments_lexer": "ipython3",
   "version": "3.6.5"
  }
 },
 "nbformat": 4,
 "nbformat_minor": 2
}
