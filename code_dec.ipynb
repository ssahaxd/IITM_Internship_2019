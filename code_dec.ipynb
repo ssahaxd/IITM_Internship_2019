{
 "cells": [
  {
   "cell_type": "code",
   "execution_count": 1,
   "metadata": {},
   "outputs": [],
   "source": [
    "import os\n",
    "import json\n",
    "import shutil, glob"
   ]
  },
  {
   "cell_type": "markdown",
   "metadata": {},
   "source": [
    "# How to use this notebook"
   ]
  },
  {
   "cell_type": "markdown",
   "metadata": {},
   "source": [
    "- this notebook expects a data folder in its current path\n",
    "- in the data folder `pathEvaluator.json` is required\n",
    "- create a pcap folder in the data folder and past the `.pcap/.raw` file along with its `key.log` file\n",
    "- rename the next cell variables accordingly "
   ]
  },
  {
   "cell_type": "code",
   "execution_count": 2,
   "metadata": {},
   "outputs": [],
   "source": [
    "pcap_file =\"./data/pcap/chrome-sat.raw\"\n",
    "key_log = \"./data/pcap/key.log\""
   ]
  },
  {
   "cell_type": "markdown",
   "metadata": {},
   "source": [
    "# Path Evaluator"
   ]
  },
  {
   "cell_type": "code",
   "execution_count": 3,
   "metadata": {},
   "outputs": [],
   "source": [
    "# Loading the pathEvaluator json which contain the data regarding the question and choices\n",
    "with open('./data/pathEvaluator.json', 'r') as f:\n",
    "    main_data = json.load(f)"
   ]
  },
  {
   "cell_type": "code",
   "execution_count": 4,
   "metadata": {},
   "outputs": [],
   "source": [
    "# Question data subset of main_data containing only info about question\n",
    "question_data = main_data['jsonGraph']['videos']['80988062']['interactiveVideoMoments']['value'][\"choicePointNavigatorMetadata\"][\"choicePointsMetadata\"][\"choicePoints\"]  \n",
    "\n",
    "# choice data subset of main_data containing only info about choices\n",
    "choice_data = main_data['jsonGraph']['videos']['80988062']['interactiveVideoMoments']['value'][\"momentsBySegment\"]"
   ]
  },
  {
   "cell_type": "code",
   "execution_count": 5,
   "metadata": {},
   "outputs": [],
   "source": [
    "# bs_data relates parent_id, chocie_id, question, chocice text and default option\n",
    "bs_data = {}\n",
    "# stores the choice id and the corresponding text\n",
    "choice_text = {}"
   ]
  },
  {
   "cell_type": "code",
   "execution_count": 6,
   "metadata": {},
   "outputs": [],
   "source": [
    "# returns the question for a given patent_id\n",
    "# uses parent_if to find the question\n",
    "# requires question data to be declared in the global scope\n",
    "def find_ques(parent_id):\n",
    "    return question_data[parent_id][\"description\"]\n",
    "    \n",
    "# example \n",
    "# print(find_ques(parent_id=\"3X\"))"
   ]
  },
  {
   "cell_type": "code",
   "execution_count": 7,
   "metadata": {},
   "outputs": [],
   "source": [
    "# add the relevant data (relates parent_id, chocie_id, question, chocice text and default option) to bs_data from choice_data\n",
    "# arg : parent_id (id of the previous choice)\n",
    "# expects question_data and choce_data is present in the global scope\n",
    "# add the id and corresponding choice text to the choice_text \n",
    "\n",
    "def gen_data(parent_id):\n",
    "    temp = {}\n",
    "    # Some options may not have any Question \n",
    "    # example: single options choice are mostlikely not to have any question\n",
    "    try:\n",
    "        temp['question'] = find_ques(parent_id)\n",
    "    except:\n",
    "        # do nothing\n",
    "        pass\n",
    "        \n",
    "    data = choice_data[parent_id]\n",
    "    for items in data:\n",
    "        if \"choices\" in items:\n",
    "            temp[\"defaultChoiceIndex\"] = items[\"defaultChoiceIndex\"]\n",
    "            # some choices don't have any text\n",
    "            # example: there is a choice point where the user need to type the phone no \n",
    "            # correct phone no will be one choice and the wrong one will be the other.\n",
    "            try:\n",
    "                temp[\"choices\"] = [{\"id\": item[\"id\"], \"text\": item[\"text\"], \"segmentId\": item[\"sg\" if \"sg\" in item else \"segmentId\"]} for item in items[\"choices\"]]\n",
    "                \n",
    "            except:\n",
    "                # do something to add info about the phone no.\n",
    "                # if ph no is available add else add xxx\n",
    "                # temp[choice] = [{},{}]\n",
    "                temp[\"choices\"] = []\n",
    "                for item in items[\"choices\"]:\n",
    "                    temp_dict = {}\n",
    "                    temp_dict[\"id\"] = item[\"id\"]\n",
    "                    if \"segmentId\" in item:\n",
    "                        temp_dict[\"segmentId\"] = item[\"segmentId\"]\n",
    "                    elif \"sg\" in item:\n",
    "                        temp_dict[\"segmentId\"] = item[\"sg\"]\n",
    "                    elif \"trackingInfo\" in items:\n",
    "                        temp_dict[\"segmentId\"] = item[\"trackingInfo\"][\"segmentId\"]\n",
    "                    if \"text\" in item:\n",
    "                        temp_dict[\"text\"] = item[\"text\"]\n",
    "                    elif \"code\" in item:\n",
    "                        temp_dict[\"code\"] = item[\"code\"]\n",
    "                    else:\n",
    "                        temp_dict[\"code\"] = \"xxx\"\n",
    "                    temp[\"choices\"].append(temp_dict)\n",
    "            # adding the choice id and text to choice_text\n",
    "            for choice in temp[\"choices\"]:\n",
    "                if choice[\"id\"] not in choice_text:\n",
    "                    choice_text[choice[\"segmentId\"]] = choice['text' if \"text\" in choice else \"code\"]\n",
    "                \n",
    "    bs_data[parent_id]=temp\n"
   ]
  },
  {
   "cell_type": "code",
   "execution_count": 8,
   "metadata": {},
   "outputs": [],
   "source": [
    "# returns the default choice for a given parent id\n",
    "# expects the bs_data (created already) is available in the global scope\n",
    "# bs_data relates parent_id, chocie_id, question, chocice text and default option\n",
    "\n",
    "def find_default(parent_id):\n",
    "    return bs_data[parent_id][\"choices\"][bs_data[parent_id][\"defaultChoiceIndex\"]]\n",
    "\n",
    "    "
   ]
  },
  {
   "cell_type": "code",
   "execution_count": 9,
   "metadata": {},
   "outputs": [],
   "source": [
    "def get_choice_text(choice_id):\n",
    "    with open('./data/choice_text.json', 'r') as f:\n",
    "        data = json.load(f)\n",
    "    return(data[choice_id])"
   ]
  },
  {
   "cell_type": "code",
   "execution_count": 10,
   "metadata": {},
   "outputs": [],
   "source": [
    "def get_choices_list(parent_id):\n",
    "    with open('./data/bs_data.json', 'r') as f:\n",
    "        data = json.load(f)\n",
    "    return data[parent_id][\"choices\"]\n",
    "\n",
    "# example\n",
    "# get_choices_list(\"1H\")"
   ]
  },
  {
   "cell_type": "code",
   "execution_count": 11,
   "metadata": {},
   "outputs": [],
   "source": [
    "# storing all id's\n",
    "parent_ids=choice_data.keys();"
   ]
  },
  {
   "cell_type": "code",
   "execution_count": 12,
   "metadata": {
    "scrolled": true
   },
   "outputs": [],
   "source": [
    "# generating data for all the id's\n",
    "for parent_id in parent_ids:\n",
    "#     print(parent_id)\n",
    "    gen_data(parent_id)\n",
    "    \n",
    "    \n",
    "blank_keys = []\n",
    "for key, data in bs_data.items():\n",
    "    if len(data) == 0:\n",
    "        blank_keys.append(key) \n",
    "for key in blank_keys:\n",
    "    del bs_data[key]\n",
    "len(bs_data)\n",
    "    \n",
    "# storing main data\n",
    "with open('./data/bs_data.json', 'w') as json_file:\n",
    "  json.dump(bs_data, json_file)\n",
    "\n",
    "# saving the choice text\n",
    "with open('./data/choice_text.json', 'w') as json_file:\n",
    "  json.dump(choice_text, json_file)"
   ]
  },
  {
   "cell_type": "markdown",
   "metadata": {},
   "source": [
    "# Data cl2"
   ]
  },
  {
   "cell_type": "markdown",
   "metadata": {},
   "source": [
    "- first, find what is selected\n",
    "- second, find if it was default or non-default"
   ]
  },
  {
   "cell_type": "code",
   "execution_count": 13,
   "metadata": {},
   "outputs": [],
   "source": [
    "# stores the result\n",
    "selection_data = {}\n",
    "\n",
    "# uncomment the print statemensts to decode\n",
    "def decode_cl2(cl2_path=\"./data/data_cl2.json\"):\n",
    "#     print(\"Processing : {}\".format(cl2_path))\n",
    "    with open(cl2_path, 'r') as f:\n",
    "        data_cl2 = json.load(f)\n",
    "    \n",
    "    selected_coice_sid = \"\"\n",
    "    parent_id = \"\"\n",
    "    reverseDeltas = data_cl2[\"reverseDeltas\"]\n",
    "    currentState = data_cl2[\"currentState\"]\n",
    "    temp = {}\n",
    "    \n",
    "    for key, items in currentState.items():\n",
    "        if \"view\" in items:\n",
    "            if items[\"view\"] == \"ikoChoicePoint\":\n",
    "                parent_id = items[\"trackingInfo\"][\"momentId\"].split(\"_\")[1]\n",
    "                given_choices= items[\"trackingInfo\"][\"choices\"]\n",
    "                break\n",
    "    \n",
    "    for items in reverseDeltas:\n",
    "        for item in items:\n",
    "            if type(item) == dict and \"view\" in item:\n",
    "                if item[\"view\"] == \"ikoChoicePointOption\":\n",
    "                    selected_coice_sid = item[\"trackingInfo\"][\"segmentId\"]\n",
    "                elif item[\"view\"] == \"ikoChoicePoint\":\n",
    "                    parent_id = item[\"trackingInfo\"][\"momentId\"].split(\"_\")[1]\n",
    "                    given_choices= item[\"trackingInfo\"][\"choices\"]\n",
    "\n",
    "        \n",
    "    if selected_coice_sid != \"\" and parent_id != \"\":\n",
    "        try:\n",
    "            temp[\"id\"] = parent_id \n",
    "            temp[\"question\"] = find_ques(parent_id) \n",
    "#             print(\"Question Id: {}\\t text: {}\".format(parent_id,find_ques(parent_id)))\n",
    "        except:\n",
    "            temp[\"error\"] = \"No queston present\" \n",
    "#             print(\"No Question present for this choice! \")\n",
    "\n",
    "        if len(given_choices) == 2:\n",
    "            try:\n",
    "#                 print(\"Selected choice Id: {}\\t text: {}\".format(selected_coice_sid,get_choice_text(selected_coice_sid)))\n",
    "                temp[\"sid\"] = selected_coice_sid \n",
    "                temp[\"ctext\"] = get_choice_text(selected_coice_sid) \n",
    "            except:\n",
    "                # May Crash Queck Fix.\n",
    "#                 print(\"Opsee! error finding selected choice.. trying again!\")\n",
    "                found_choice = \"\"\n",
    "                for choice in given_choices:\n",
    "                    if choice[\"segmentId\"] == selected_coice_sid:\n",
    "                        selected_coice_id = choice[\"id\"]\n",
    "                        for ch in get_choices_list(parent_id):\n",
    "                            if ch[\"id\"] == selected_coice_id:\n",
    "                                found_choice = ch[\"text\" if \"text\" in ch else \"code\"]\n",
    "#                 print(\"Selected choice Id: {}\\t text: {}\".format(selected_coice_sid,found_choice))\n",
    "                temp[\"sid\"] = selected_coice_sid \n",
    "                temp[\"ctext\"] = found_choice \n",
    "            \n",
    "#             print(\"Default chocie: \"+str(find_default(parent_id)))\n",
    "            temp[\"dchoice\"] = find_default(parent_id)\n",
    "            selection_data[parent_id]=temp"
   ]
  },
  {
   "cell_type": "code",
   "execution_count": 14,
   "metadata": {},
   "outputs": [],
   "source": [
    "# exporting the http objects\n",
    "dest_folder = \"data/trash\" \n",
    "export_obj_cmd =\"tshark -nr {} -o tls.keylog_file:{} --export-objects \\\"http,{}\\\"\".format(pcap_file, key_log, dest_folder)\n",
    "os.system(export_obj_cmd)\n",
    "\n",
    "# moving all cl2 files from trash to cl2 folder\n",
    "files = glob.glob('./data/trash/cl2*')\n",
    "for f in files:\n",
    "    src = f\n",
    "    dst = f.replace(\"trash\", \"cl2\")\n",
    "    shutil.move(src,dst)\n"
   ]
  },
  {
   "cell_type": "code",
   "execution_count": 15,
   "metadata": {
    "scrolled": false
   },
   "outputs": [],
   "source": [
    "# decode each cl2\n",
    "selection_data = {}\n",
    "for cl2 in glob.glob('./data/cl2/cl2*'):\n",
    "    decode_cl2(cl2)"
   ]
  },
  {
   "cell_type": "code",
   "execution_count": 16,
   "metadata": {
    "scrolled": false
   },
   "outputs": [
    {
     "name": "stdout",
     "output_type": "stream",
     "text": [
      "{\n",
      "  \"1A\": {\n",
      "    \"id\": \"1A\",\n",
      "    \"question\": \"Which Cereal?\",\n",
      "    \"sid\": \"1D\",\n",
      "    \"ctext\": \"FROSTIES\",\n",
      "    \"dchoice\": {\n",
      "      \"id\": \"1E\",\n",
      "      \"text\": \"SUGAR PUFFS\",\n",
      "      \"segmentId\": \"1E\"\n",
      "    }\n",
      "  },\n",
      "  \"1D\": {\n",
      "    \"id\": \"1D\",\n",
      "    \"question\": \"Which Tape?\",\n",
      "    \"sid\": \"1G\",\n",
      "    \"ctext\": \"NOW 2\",\n",
      "    \"dchoice\": {\n",
      "      \"id\": \"1H\",\n",
      "      \"text\": \"THOMPSON TWINS\",\n",
      "      \"segmentId\": \"1H\"\n",
      "    }\n",
      "  },\n",
      "  \"1G\": {\n",
      "    \"id\": \"1G\",\n",
      "    \"question\": \"Job Offer\",\n",
      "    \"sid\": \"1Qnw\",\n",
      "    \"ctext\": \"REFUSE\",\n",
      "    \"dchoice\": {\n",
      "      \"id\": \"nsg-8AChoice\",\n",
      "      \"text\": \"ACCEPT\",\n",
      "      \"segmentId\": \"8AChoice\"\n",
      "    }\n",
      "  },\n",
      "  \"1Qnw\": {\n",
      "    \"id\": \"1Qnw\",\n",
      "    \"question\": \"Talk About Mum?\",\n",
      "    \"sid\": \"2B\",\n",
      "    \"ctext\": \"YES\",\n",
      "    \"dchoice\": {\n",
      "      \"id\": \"nsg-2BChoice\",\n",
      "      \"text\": \"YES\",\n",
      "      \"segmentId\": \"2BChoice\"\n",
      "    }\n",
      "  },\n",
      "  \"2B\": {\n",
      "    \"id\": \"2B\",\n",
      "    \"question\": \"Which Record?\",\n",
      "    \"sid\": \"1R\",\n",
      "    \"ctext\": \"PHAEDRA\",\n",
      "    \"dchoice\": {\n",
      "      \"id\": \"1R\",\n",
      "      \"text\": \"PHAEDRA\",\n",
      "      \"segmentId\": \"1R\"\n",
      "    }\n",
      "  },\n",
      "  \"1R\": {\n",
      "    \"id\": \"1R\",\n",
      "    \"question\": \"Throw Tea or Shout?\",\n",
      "    \"sid\": \"3B\",\n",
      "    \"ctext\": \"THROW TEA OVER COMPUTER\",\n",
      "    \"dchoice\": {\n",
      "      \"id\": \"3B\",\n",
      "      \"text\": \"THROW TEA OVER COMPUTER\",\n",
      "      \"segmentId\": \"3B\"\n",
      "    }\n",
      "  },\n",
      "  \"SS11\": {\n",
      "    \"id\": \"SS11\",\n",
      "    \"question\": \"Split Screen\",\n",
      "    \"sid\": \"3Ax\",\n",
      "    \"ctext\": \"GO BACK\",\n",
      "    \"dchoice\": {\n",
      "      \"id\": \"3Ax\",\n",
      "      \"text\": \"GO BACK\",\n",
      "      \"segmentId\": \"3Ax\"\n",
      "    }\n",
      "  },\n",
      "  \"3Ax\": {\n",
      "    \"id\": \"3Ax\",\n",
      "    \"question\": \"Throw Tea or Shout?\",\n",
      "    \"sid\": \"3C\",\n",
      "    \"ctext\": \"SHOUT AT DAD\",\n",
      "    \"dchoice\": {\n",
      "      \"id\": \"3C\",\n",
      "      \"text\": \"SHOUT AT DAD\",\n",
      "      \"segmentId\": \"3C\"\n",
      "    }\n",
      "  },\n",
      "  \"3J\": {\n",
      "    \"id\": \"3J\",\n",
      "    \"question\": \"Outside Dr. Haynes\",\n",
      "    \"sid\": \"3R\",\n",
      "    \"ctext\": \"VISIT DR. HAYNES\",\n",
      "    \"dchoice\": {\n",
      "      \"id\": \"nsg-VisitHaynesChoice\",\n",
      "      \"text\": \"VISIT DR. HAYNES\",\n",
      "      \"segmentId\": \"VisitHaynesChoice\"\n",
      "    }\n",
      "  },\n",
      "  \"3R\": {\n",
      "    \"id\": \"3R\",\n",
      "    \"question\": \"Bite Nails or Pull Ear?\",\n",
      "    \"sid\": \"3U\",\n",
      "    \"ctext\": \"BITE NAILS\",\n",
      "    \"dchoice\": {\n",
      "      \"id\": \"3U\",\n",
      "      \"text\": \"BITE NAILS\",\n",
      "      \"segmentId\": \"3U\"\n",
      "    }\n",
      "  },\n",
      "  \"3X\": {\n",
      "    \"id\": \"3X\",\n",
      "    \"question\": \"Pills\",\n",
      "    \"sid\": \"8B\",\n",
      "    \"ctext\": \"TAKE THEM\",\n",
      "    \"dchoice\": {\n",
      "      \"id\": \"8B_Variant2\",\n",
      "      \"text\": \"TAKE THEM\",\n",
      "      \"segmentId\": \"8B\"\n",
      "    }\n",
      "  },\n",
      "  \"SS15\": {\n",
      "    \"id\": \"SS15\",\n",
      "    \"question\": \"Split Screen\",\n",
      "    \"sid\": \"R4\",\n",
      "    \"ctext\": \"FOLLOW COLIN\",\n",
      "    \"dchoice\": {\n",
      "      \"id\": \"nsg-SS15-1\",\n",
      "      \"text\": \"GO BACK\",\n",
      "      \"segmentId\": \"3Xxa_3Xxc\"\n",
      "    }\n",
      "  },\n",
      "  \"3M\": {\n",
      "    \"id\": \"3M\",\n",
      "    \"question\": \"Take LSD?\",\n",
      "    \"sid\": \"3N\",\n",
      "    \"ctext\": \"YES\",\n",
      "    \"dchoice\": {\n",
      "      \"id\": \"3N\",\n",
      "      \"text\": \"YES\",\n",
      "      \"segmentId\": \"3N\"\n",
      "    }\n",
      "  }\n",
      "}\n"
     ]
    }
   ],
   "source": [
    "# printing the result\n",
    "print(json.dumps(selection_data, indent=2))"
   ]
  },
  {
   "cell_type": "code",
   "execution_count": 17,
   "metadata": {},
   "outputs": [],
   "source": [
    "# saving the output in a json file\n",
    "with open('./data/user_choice.json', 'w') as json_file:\n",
    "  json.dump(selection_data, json_file)"
   ]
  },
  {
   "cell_type": "code",
   "execution_count": null,
   "metadata": {},
   "outputs": [],
   "source": []
  }
 ],
 "metadata": {
  "kernelspec": {
   "display_name": "Python 3",
   "language": "python",
   "name": "python3"
  },
  "language_info": {
   "codemirror_mode": {
    "name": "ipython",
    "version": 3
   },
   "file_extension": ".py",
   "mimetype": "text/x-python",
   "name": "python",
   "nbconvert_exporter": "python",
   "pygments_lexer": "ipython3",
   "version": "3.7.3"
  }
 },
 "nbformat": 4,
 "nbformat_minor": 2
}
