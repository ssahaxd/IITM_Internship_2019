{
 "cells": [
  {
   "cell_type": "code",
   "execution_count": 2,
   "metadata": {},
   "outputs": [],
   "source": [
    "import os\n",
    "import json\n"
   ]
  },
  {
   "cell_type": "markdown",
   "metadata": {},
   "source": [
    "# Path Evaluator"
   ]
  },
  {
   "cell_type": "code",
   "execution_count": 3,
   "metadata": {},
   "outputs": [],
   "source": [
    "# Loading the pathEvaluator json which contain the data regarding the question and choices\n",
    "with open('./data/pathEvaluator.json', 'r') as f:\n",
    "    main_data = json.load(f)"
   ]
  },
  {
   "cell_type": "code",
   "execution_count": 4,
   "metadata": {},
   "outputs": [],
   "source": [
    "# Question data subset of main_data containing only info about question\n",
    "question_data = main_data['jsonGraph']['videos']['80988062']['interactiveVideoMoments']['value'][\"choicePointNavigatorMetadata\"][\"choicePointsMetadata\"][\"choicePoints\"]  \n",
    "\n",
    "# choice data subset of main_data containing only info about choices\n",
    "choice_data = main_data['jsonGraph']['videos']['80988062']['interactiveVideoMoments']['value'][\"momentsBySegment\"]"
   ]
  },
  {
   "cell_type": "code",
   "execution_count": 5,
   "metadata": {},
   "outputs": [],
   "source": [
    "# bs_data relates parent_id, chocie_id, question, chocice text and default option\n",
    "bs_data = {}\n",
    "# stores the choice id and the corresponding text\n",
    "choice_text = {}\n",
    "# stores the question id and the corresponding text\n",
    "# TODO: do it soon\n",
    "# ques_text = {}"
   ]
  },
  {
   "cell_type": "code",
   "execution_count": 6,
   "metadata": {},
   "outputs": [],
   "source": [
    "# returns the question for a given patent_id\n",
    "# uses parent_if to find the question\n",
    "# requires question data to be declared in the global scope\n",
    "def find_ques(parent_id):\n",
    "    return question_data[parent_id][\"description\"]\n",
    "    \n",
    "# example \n",
    "# print(find_ques(parent_id=\"3X\"))"
   ]
  },
  {
   "cell_type": "code",
   "execution_count": 7,
   "metadata": {},
   "outputs": [],
   "source": [
    "# add the relevant data (relates parent_id, chocie_id, question, chocice text and default option) to bs_data from choice_data\n",
    "# arg : parent_id (id of the previous choice)\n",
    "# expects question_data and choce_data is present in the global scope\n",
    "# add the id and corresponding choice text to the choice_text \n",
    "\n",
    "def gen_data(parent_id):\n",
    "    temp = {}\n",
    "    # Some options may not have any Question \n",
    "    # example: single options choice are mostlikely not to have any question\n",
    "    try:\n",
    "        temp['question'] = find_ques(parent_id)\n",
    "    except:\n",
    "        # do nothing\n",
    "        pass\n",
    "        \n",
    "    data = choice_data[parent_id]\n",
    "    for items in data:\n",
    "        if \"choices\" in items:\n",
    "            temp[\"defaultChoiceIndex\"] = items[\"defaultChoiceIndex\"]\n",
    "            # some choices don't have any text\n",
    "            # example: there is a choice point where the user need to type the phone no \n",
    "            # correct phone no will be one choice and the wrong one will be the other.\n",
    "            try:\n",
    "                temp[\"choices\"] = [{\"id\": item[\"id\"], \"text\": item[\"text\"], \"segmentId\": item[\"sg\" if \"sg\" in item else \"segmentId\"]} for item in items[\"choices\"]]\n",
    "                \n",
    "            except:\n",
    "                # do something to add info about the phone no.\n",
    "                # if ph no is available add else add xxx\n",
    "                # temp[choice] = [{},{}]\n",
    "                temp[\"choices\"] = []\n",
    "                for item in items[\"choices\"]:\n",
    "                    temp_dict = {}\n",
    "                    temp_dict[\"id\"] = item[\"id\"]\n",
    "                    if \"segmentId\" in item:\n",
    "                        temp_dict[\"segmentId\"] = item[\"segmentId\"]\n",
    "                    elif \"sg\" in item:\n",
    "                        temp_dict[\"segmentId\"] = item[\"sg\"]\n",
    "                    elif \"trackingInfo\" in items:\n",
    "                        temp_dict[\"segmentId\"] = item[\"trackingInfo\"][\"segmentId\"]\n",
    "                    if \"text\" in item:\n",
    "                        temp_dict[\"text\"] = item[\"text\"]\n",
    "                    elif \"code\" in item:\n",
    "                        temp_dict[\"code\"] = item[\"code\"]\n",
    "                    else:\n",
    "                        temp_dict[\"code\"] = \"xxx\"\n",
    "                    temp[\"choices\"].append(temp_dict)\n",
    "            # adding the choice id and text to choice_text\n",
    "            for choice in temp[\"choices\"]:\n",
    "                if choice[\"id\"] not in choice_text:\n",
    "                    choice_text[choice[\"segmentId\"]] = choice['text' if \"text\" in choice else \"code\"]\n",
    "                \n",
    "    bs_data[parent_id]=temp\n"
   ]
  },
  {
   "cell_type": "code",
   "execution_count": 8,
   "metadata": {},
   "outputs": [],
   "source": [
    "# returns the default choice for a given parent id\n",
    "# expects the bs_data (created already) is available in the global scope\n",
    "# bs_data relates parent_id, chocie_id, question, chocice text and default option\n",
    "\n",
    "def find_default(parent_id):\n",
    "    return bs_data[parent_id][\"choices\"][bs_data[parent_id][\"defaultChoiceIndex\"]]\n",
    "\n",
    "    "
   ]
  },
  {
   "cell_type": "code",
   "execution_count": 9,
   "metadata": {},
   "outputs": [],
   "source": [
    "def get_choice_text(choice_id):\n",
    "    with open('./data/choice_text.json', 'r') as f:\n",
    "        data = json.load(f)\n",
    "    return(data[choice_id])"
   ]
  },
  {
   "cell_type": "code",
   "execution_count": 10,
   "metadata": {},
   "outputs": [
    {
     "data": {
      "text/plain": [
       "[{'id': 'nsg-8AChoice', 'segmentId': '8AChoice', 'text': 'ACCEPT'},\n",
       " {'id': 'nsg-1Qnw-1Qtt', 'segmentId': '1Qnw-1Qtt', 'text': 'REFUSE'}]"
      ]
     },
     "execution_count": 10,
     "metadata": {},
     "output_type": "execute_result"
    }
   ],
   "source": [
    "def get_choices_list(parent_id):\n",
    "    with open('./data/bs_data.json', 'r') as f:\n",
    "        data = json.load(f)\n",
    "    return data[parent_id][\"choices\"]\n",
    "\n",
    "# example\n",
    "get_choices_list(\"1H\")"
   ]
  },
  {
   "cell_type": "code",
   "execution_count": 11,
   "metadata": {},
   "outputs": [],
   "source": [
    "# examples\n",
    "\n",
    "# finds the question and the choice id with text for a given parent id \n",
    "# parent id is the id of the preious choice\n",
    "# find_choices(parent_id=\"1A\")\n",
    "\n",
    "# print(find_default(\"1A\"))\n",
    "# find_ques(parent_id=\"2G\")"
   ]
  },
  {
   "cell_type": "code",
   "execution_count": 12,
   "metadata": {},
   "outputs": [],
   "source": [
    "# storing all id's\n",
    "parent_ids=choice_data.keys();"
   ]
  },
  {
   "cell_type": "code",
   "execution_count": 13,
   "metadata": {},
   "outputs": [],
   "source": [
    "# gen_data(list(parent_ids)[0])"
   ]
  },
  {
   "cell_type": "code",
   "execution_count": 14,
   "metadata": {
    "scrolled": true
   },
   "outputs": [],
   "source": [
    "# generating data for all the id's\n",
    "for parent_id in parent_ids:\n",
    "#     print(parent_id)\n",
    "    gen_data(parent_id)\n",
    "    \n",
    "    \n",
    "blank_keys = []\n",
    "for key, data in bs_data.items():\n",
    "    if len(data) == 0:\n",
    "        blank_keys.append(key) \n",
    "for key in blank_keys:\n",
    "    del bs_data[key]\n",
    "len(bs_data)\n",
    "    \n",
    "# storing main data\n",
    "with open('./data/bs_data.json', 'w') as json_file:\n",
    "  json.dump(bs_data, json_file)\n",
    "\n",
    "# saving the choice text\n",
    "with open('./data/choice_text.json', 'w') as json_file:\n",
    "  json.dump(choice_text, json_file)"
   ]
  },
  {
   "cell_type": "markdown",
   "metadata": {},
   "source": [
    "# Data cl2"
   ]
  },
  {
   "cell_type": "markdown",
   "metadata": {},
   "source": [
    "- first, find what is selected\n",
    "- second, find if it was default or non-default"
   ]
  },
  {
   "cell_type": "code",
   "execution_count": null,
   "metadata": {},
   "outputs": [],
   "source": [
    "# #  error\n",
    "\n",
    "# def decode_cl2(cl2_path=\"./data/data_cl2.json\"):\n",
    "#     print('-'*10)\n",
    "#     print(\"Processing : {}\".format(cl2_path))\n",
    "#     with open(cl2_path, 'r') as f:\n",
    "#         data_cl2 = json.load(f)\n",
    "    \n",
    "#     selected_coice_sid = \"\"\n",
    "#     parent_id = \"\"\n",
    "#     reverseDeltas = data_cl2[\"reverseDeltas\"]\n",
    "    \n",
    "#     for items in reverseDeltas:\n",
    "#         for item in items:\n",
    "#             if type(item) == dict and \"view\" in item:\n",
    "#                 if item[\"view\"] == \"ikoChoicePointOption\":\n",
    "#                     selected_coice_sid = item[\"trackingInfo\"][\"segmentId\"]\n",
    "#                 elif item[\"view\"] == \"ikoChoicePoint\":\n",
    "#                     parent_id = item[\"trackingInfo\"][\"momentId\"].split(\"_\")[1]\n",
    "#                     given_choices= item[\"trackingInfo\"][\"choices\"]\n",
    "    \n",
    "#     if selected_coice_sid == \"\" and parent_id == \"\":\n",
    "#         print(\"error: does not looks like a data cl2\")\n",
    "        \n",
    "#     elif selected_coice_sid != \"\" and parent_id != \"\":\n",
    "        \n",
    "#         try:\n",
    "#             print(\"Question Id: \"+parent_id)\n",
    "#             print(\"Question text: \"+find_ques(parent_id))\n",
    "#         except:\n",
    "#             print(\"No Question present for this choice! \")\n",
    "#             with open('./data/bs_data.json', 'r') as f:\n",
    "#                 bs_data = json.load(f)\n",
    "#             print(\"This question has {} options\".format(len(bs_data[parent_id][\"choices\"])))\n",
    "        \n",
    "#         if len(given_choices) == 1:\n",
    "#             print(\"fakeOption. Only {} options\".format(len(given_choices)))\n",
    "#         else:\n",
    "        \n",
    "#             try:\n",
    "#                 print(\"Selected choice ID :\"+ selected_coice_sid)\n",
    "#                 print(\"Selected choice :\"+get_choice_text(selected_coice_sid))\n",
    "#             except:\n",
    "#                 # May Crash Queck Fix.\n",
    "#                 print(\"Opsee! error finding selected choice.. trying again!\")\n",
    "#                 found_choice = \"\"\n",
    "#                 for choice in given_choices:\n",
    "#                     if choice[\"segmentId\"] == selected_coice_sid:\n",
    "#                         selected_coice_id = choice[\"id\"]\n",
    "#                         for ch in get_choices_list(parent_id):\n",
    "#                             if ch[\"id\"] == selected_coice_id:\n",
    "#                                 found_choice = ch[\"text\" if \"text\" in ch else \"code\"]\n",
    "\n",
    "#                 print(\"Selected choice :\"+ found_choice)\n",
    "            \n",
    "#             print(\"Default chocie: \"+str(find_default(parent_id)))\n",
    "#     elif selected_coice_sid != \"\":\n",
    "#         try:\n",
    "#             print(\"Selected choice ID :\"+ selected_coice_sid)\n",
    "#             print(\"Selected choice :\"+get_choice_text(selected_coice_sid))\n",
    "#         except:\n",
    "#             # May Crash Queck Fix.\n",
    "#             print(\"Opsee! error finding selected choice\")\n",
    "#     print('-'*10)\n",
    "    "
   ]
  },
  {
   "cell_type": "code",
   "execution_count": null,
   "metadata": {},
   "outputs": [],
   "source": [
    "# decode_cl2(\"./data/cl2/1_cl2.json\")"
   ]
  },
  {
   "cell_type": "code",
   "execution_count": null,
   "metadata": {},
   "outputs": [],
   "source": [
    "# # renameing all files\n",
    "# i = 0\n",
    "# for filename in os.listdir(\"./data/cl2\"): \n",
    "#         dst =str(i) + \"_cl2.json\"\n",
    "#         src ='./data/cl2/'+ filename \n",
    "#         dst ='./data/cl2/'+ dst \n",
    "          \n",
    "#         # rename() function will \n",
    "#         # rename all the files \n",
    "#         os.rename(src, dst) \n",
    "#         i += 1"
   ]
  },
  {
   "cell_type": "code",
   "execution_count": null,
   "metadata": {},
   "outputs": [],
   "source": [
    "# for cl2 in os.listdir(\"./data/cl2\"):\n",
    "#     decode_cl2(\"./data/cl2/\"+cl2)"
   ]
  },
  {
   "cell_type": "code",
   "execution_count": 15,
   "metadata": {},
   "outputs": [],
   "source": [
    "selection_data = {}\n",
    "\n",
    "def decode_cl2(cl2_path=\"./data/data_cl2.json\"):\n",
    "#     print('-'*10)\n",
    "#     print(\"Processing : {}\".format(cl2_path))\n",
    "    with open(cl2_path, 'r') as f:\n",
    "        data_cl2 = json.load(f)\n",
    "    \n",
    "    selected_coice_sid = \"\"\n",
    "    parent_id = \"\"\n",
    "    reverseDeltas = data_cl2[\"reverseDeltas\"]\n",
    "    currentState = data_cl2[\"currentState\"]\n",
    "    temp = {}\n",
    "    \n",
    "    for key, items in currentState.items():\n",
    "        if \"view\" in items:\n",
    "            if items[\"view\"] == \"ikoChoicePoint\":\n",
    "                parent_id = items[\"trackingInfo\"][\"momentId\"].split(\"_\")[1]\n",
    "                given_choices= items[\"trackingInfo\"][\"choices\"]\n",
    "                break\n",
    "    \n",
    "    for items in reverseDeltas:\n",
    "        for item in items:\n",
    "            if type(item) == dict and \"view\" in item:\n",
    "                if item[\"view\"] == \"ikoChoicePointOption\":\n",
    "                    selected_coice_sid = item[\"trackingInfo\"][\"segmentId\"]\n",
    "                elif item[\"view\"] == \"ikoChoicePoint\":\n",
    "                    parent_id = item[\"trackingInfo\"][\"momentId\"].split(\"_\")[1]\n",
    "                    given_choices= item[\"trackingInfo\"][\"choices\"]\n",
    "\n",
    "        \n",
    "    if selected_coice_sid != \"\" and parent_id != \"\":\n",
    "        try:\n",
    "            temp[\"id\"] = parent_id \n",
    "            temp[\"question\"] = find_ques(parent_id) \n",
    "            print(\"Question Id: {}\\t text: {}\".format(parent_id,find_ques(parent_id)))\n",
    "        except:\n",
    "            temp[\"error\"] = \"No queston present\" \n",
    "            print(\"No Question present for this choice! \")\n",
    "        \n",
    "        if len(given_choices) == 1:\n",
    "            print(\"fakeOption. Only {} options\".format(len(given_choices)))\n",
    "        else:\n",
    "            try:\n",
    "                print(\"Selected choice Id: {}\\t text: {}\".format(selected_coice_sid,get_choice_text(selected_coice_sid)))\n",
    "                temp[\"sid\"] = selected_coice_sid \n",
    "                temp[\"ctext\"] = get_choice_text(selected_coice_sid) \n",
    "            except:\n",
    "                # May Crash Queck Fix.\n",
    "                print(\"Opsee! error finding selected choice.. trying again!\")\n",
    "                found_choice = \"\"\n",
    "                for choice in given_choices:\n",
    "                    if choice[\"segmentId\"] == selected_coice_sid:\n",
    "                        selected_coice_id = choice[\"id\"]\n",
    "                        for ch in get_choices_list(parent_id):\n",
    "                            if ch[\"id\"] == selected_coice_id:\n",
    "                                found_choice = ch[\"text\" if \"text\" in ch else \"code\"]\n",
    "                print(\"Selected choice Id: {}\\t text: {}\".format(selected_coice_sid,found_choice))\n",
    "                temp[\"sid\"] = selected_coice_sid \n",
    "                temp[\"ctext\"] = found_choice \n",
    "            \n",
    "            print(\"Default chocie: \"+str(find_default(parent_id)))\n",
    "            temp[\"dchoice\"] = find_default(parent_id)\n",
    "            selection_data[parent_id]=temp\n",
    "            print('-'*10)\n",
    "            \n",
    "#     elif selected_coice_sid != \"\":\n",
    "#         print(\"only selected choice data found.\")\n",
    "#         try:\n",
    "#             print(\"Selected choice Id: {}\\t text: {}\".format(selected_coice_sid,get_choice_text(selected_coice_sid)))\n",
    "#         except:\n",
    "#             print(\"Opsee! error finding selected choice. \\t Selected choice Id: {}\".format(selected_coice_sid))\n",
    "#     print('-'*10)"
   ]
  },
  {
   "cell_type": "code",
   "execution_count": 16,
   "metadata": {
    "scrolled": false
   },
   "outputs": [
    {
     "name": "stdout",
     "output_type": "stream",
     "text": [
      "Question Id: 1A\t text: Which Cereal?\n",
      "Selected choice Id: 1D\t text: FROSTIES\n",
      "Default chocie: {'id': '1E', 'text': 'SUGAR PUFFS', 'segmentId': '1E'}\n",
      "----------\n",
      "Question Id: 1D\t text: Which Tape?\n",
      "Selected choice Id: 1G\t text: NOW 2\n",
      "Default chocie: {'id': '1H', 'text': 'THOMPSON TWINS', 'segmentId': '1H'}\n",
      "----------\n",
      "Question Id: 1G\t text: Job Offer\n",
      "Opsee! error finding selected choice.. trying again!\n",
      "Selected choice Id: 1Qnw\t text: REFUSE\n",
      "Default chocie: {'id': 'nsg-8AChoice', 'text': 'ACCEPT', 'segmentId': '8AChoice'}\n",
      "----------\n",
      "Question Id: 1Qnw\t text: Talk About Mum?\n",
      "Opsee! error finding selected choice.. trying again!\n",
      "Selected choice Id: 2B\t text: YES\n",
      "Default chocie: {'id': 'nsg-2BChoice', 'text': 'YES', 'segmentId': '2BChoice'}\n",
      "----------\n",
      "Question Id: 1Qnw\t text: Talk About Mum?\n",
      "Opsee! error finding selected choice.. trying again!\n",
      "Selected choice Id: 2B\t text: YES\n",
      "Default chocie: {'id': 'nsg-2BChoice', 'text': 'YES', 'segmentId': '2BChoice'}\n",
      "----------\n",
      "Question Id: 2B\t text: Which Record?\n",
      "fakeOption. Only 1 options\n",
      "Question Id: 2B\t text: Which Record?\n",
      "Selected choice Id: 1R\t text: PHAEDRA\n",
      "Default chocie: {'id': '1R', 'text': 'PHAEDRA', 'segmentId': '1R'}\n",
      "----------\n",
      "Question Id: 1R\t text: Throw Tea or Shout?\n",
      "Selected choice Id: 3B\t text: THROW TEA OVER COMPUTER\n",
      "Default chocie: {'id': '3B', 'text': 'THROW TEA OVER COMPUTER', 'segmentId': '3B'}\n",
      "----------\n",
      "Question Id: SS11\t text: Split Screen\n",
      "Selected choice Id: 3Ax\t text: GO BACK\n",
      "Default chocie: {'id': '3Ax', 'text': 'GO BACK', 'segmentId': '3Ax'}\n",
      "----------\n",
      "Question Id: 3Ax\t text: Throw Tea or Shout?\n",
      "Selected choice Id: 3C\t text: SHOUT AT DAD\n",
      "Default chocie: {'id': '3C', 'text': 'SHOUT AT DAD', 'segmentId': '3C'}\n",
      "----------\n",
      "Question Id: 3J\t text: Outside Dr. Haynes\n",
      "Opsee! error finding selected choice.. trying again!\n",
      "Selected choice Id: 3R\t text: VISIT DR. HAYNES\n",
      "Default chocie: {'id': 'nsg-VisitHaynesChoice', 'text': 'VISIT DR. HAYNES', 'segmentId': 'VisitHaynesChoice'}\n",
      "----------\n",
      "Question Id: 3R\t text: Bite Nails or Pull Ear?\n",
      "Selected choice Id: 3U\t text: BITE NAILS\n",
      "Default chocie: {'id': '3U', 'text': 'BITE NAILS', 'segmentId': '3U'}\n",
      "----------\n",
      "Question Id: 3X\t text: Pills\n",
      "Selected choice Id: 8B\t text: TAKE THEM\n",
      "Default chocie: {'id': '8B_Variant2', 'text': 'TAKE THEM', 'segmentId': '8B'}\n",
      "----------\n",
      "Question Id: SS15\t text: Split Screen\n",
      "Selected choice Id: R4\t text: FOLLOW COLIN\n",
      "Default chocie: {'id': 'nsg-SS15-1', 'text': 'GO BACK', 'segmentId': '3Xxa_3Xxc'}\n",
      "----------\n",
      "Question Id: 3M\t text: Take LSD?\n",
      "Selected choice Id: 3N\t text: YES\n",
      "Default chocie: {'id': '3N', 'text': 'YES', 'segmentId': '3N'}\n",
      "----------\n"
     ]
    },
    {
     "ename": "FileNotFoundError",
     "evalue": "[Errno 2] No such file or directory: './data/cl2/cl2(57)'",
     "output_type": "error",
     "traceback": [
      "\u001b[0;31m---------------------------------------------------------------------------\u001b[0m",
      "\u001b[0;31mFileNotFoundError\u001b[0m                         Traceback (most recent call last)",
      "\u001b[0;32m<ipython-input-16-efd0087c0f38>\u001b[0m in \u001b[0;36m<module>\u001b[0;34m()\u001b[0m\n\u001b[1;32m      1\u001b[0m \u001b[0;34m\u001b[0m\u001b[0m\n\u001b[1;32m      2\u001b[0m \u001b[0;32mfor\u001b[0m \u001b[0mi\u001b[0m \u001b[0;32min\u001b[0m \u001b[0mrange\u001b[0m\u001b[0;34m(\u001b[0m\u001b[0;36m68\u001b[0m\u001b[0;34m)\u001b[0m\u001b[0;34m:\u001b[0m\u001b[0;34m\u001b[0m\u001b[0;34m\u001b[0m\u001b[0m\n\u001b[0;32m----> 3\u001b[0;31m     \u001b[0mdecode_cl2\u001b[0m\u001b[0;34m(\u001b[0m\u001b[0;34m\"./data/cl2/cl2({})\"\u001b[0m\u001b[0;34m.\u001b[0m\u001b[0mformat\u001b[0m\u001b[0;34m(\u001b[0m\u001b[0mi\u001b[0m\u001b[0;34m)\u001b[0m\u001b[0;34m)\u001b[0m\u001b[0;34m\u001b[0m\u001b[0;34m\u001b[0m\u001b[0m\n\u001b[0m",
      "\u001b[0;32m<ipython-input-15-1eacdb8c930a>\u001b[0m in \u001b[0;36mdecode_cl2\u001b[0;34m(cl2_path)\u001b[0m\n\u001b[1;32m      4\u001b[0m \u001b[0;31m#     print('-'*10)\u001b[0m\u001b[0;34m\u001b[0m\u001b[0;34m\u001b[0m\u001b[0;34m\u001b[0m\u001b[0m\n\u001b[1;32m      5\u001b[0m \u001b[0;31m#     print(\"Processing : {}\".format(cl2_path))\u001b[0m\u001b[0;34m\u001b[0m\u001b[0;34m\u001b[0m\u001b[0;34m\u001b[0m\u001b[0m\n\u001b[0;32m----> 6\u001b[0;31m     \u001b[0;32mwith\u001b[0m \u001b[0mopen\u001b[0m\u001b[0;34m(\u001b[0m\u001b[0mcl2_path\u001b[0m\u001b[0;34m,\u001b[0m \u001b[0;34m'r'\u001b[0m\u001b[0;34m)\u001b[0m \u001b[0;32mas\u001b[0m \u001b[0mf\u001b[0m\u001b[0;34m:\u001b[0m\u001b[0;34m\u001b[0m\u001b[0;34m\u001b[0m\u001b[0m\n\u001b[0m\u001b[1;32m      7\u001b[0m         \u001b[0mdata_cl2\u001b[0m \u001b[0;34m=\u001b[0m \u001b[0mjson\u001b[0m\u001b[0;34m.\u001b[0m\u001b[0mload\u001b[0m\u001b[0;34m(\u001b[0m\u001b[0mf\u001b[0m\u001b[0;34m)\u001b[0m\u001b[0;34m\u001b[0m\u001b[0;34m\u001b[0m\u001b[0m\n\u001b[1;32m      8\u001b[0m \u001b[0;34m\u001b[0m\u001b[0m\n",
      "\u001b[0;31mFileNotFoundError\u001b[0m: [Errno 2] No such file or directory: './data/cl2/cl2(57)'"
     ]
    }
   ],
   "source": [
    "\n",
    "for i in range(68):\n",
    "    decode_cl2(\"./data/cl2/cl2({})\".format(i))"
   ]
  },
  {
   "cell_type": "code",
   "execution_count": null,
   "metadata": {},
   "outputs": [],
   "source": [
    "print(json.dumps(selection_data, indent=2))"
   ]
  },
  {
   "cell_type": "code",
   "execution_count": null,
   "metadata": {},
   "outputs": [],
   "source": [
    "with open('./data/user_choice.json', 'w') as json_file:\n",
    "  json.dump(selection_data, json_file)"
   ]
  },
  {
   "cell_type": "code",
   "execution_count": null,
   "metadata": {},
   "outputs": [],
   "source": []
  }
 ],
 "metadata": {
  "kernelspec": {
   "display_name": "Python 3",
   "language": "python",
   "name": "python3"
  },
  "language_info": {
   "codemirror_mode": {
    "name": "ipython",
    "version": 3
   },
   "file_extension": ".py",
   "mimetype": "text/x-python",
   "name": "python",
   "nbconvert_exporter": "python",
   "pygments_lexer": "ipython3",
   "version": "3.6.8"
  }
 },
 "nbformat": 4,
 "nbformat_minor": 2
}
