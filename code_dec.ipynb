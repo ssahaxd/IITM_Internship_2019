{
 "cells": [
  {
   "cell_type": "code",
   "execution_count": 1,
   "metadata": {},
   "outputs": [],
   "source": [
    "import os\n",
    "import json\n"
   ]
  },
  {
   "cell_type": "markdown",
   "metadata": {},
   "source": [
    "# Path Evaluator"
   ]
  },
  {
   "cell_type": "code",
   "execution_count": 2,
   "metadata": {},
   "outputs": [],
   "source": [
    "# Loading the pathEvaluator json which contain the data regarding the question and choices\n",
    "with open('./pathEvaluator.json', 'r') as f:\n",
    "    main_data = json.load(f)"
   ]
  },
  {
   "cell_type": "code",
   "execution_count": 3,
   "metadata": {},
   "outputs": [],
   "source": [
    "# Question data subset of main_data containing only info about question\n",
    "question_data = main_data['jsonGraph']['videos']['80988062']['interactiveVideoMoments']['value'][\"choicePointNavigatorMetadata\"][\"choicePointsMetadata\"][\"choicePoints\"]  \n",
    "\n",
    "# choice data subset of main_data containing only info about choices\n",
    "choice_data = main_data['jsonGraph']['videos']['80988062']['interactiveVideoMoments']['value'][\"momentsBySegment\"]"
   ]
  },
  {
   "cell_type": "code",
   "execution_count": 4,
   "metadata": {},
   "outputs": [],
   "source": [
    "# bs_data relates parent_id, chocie_id, question, chocice text and default option\n",
    "bs_data = {}\n",
    "# stores the choice id and the corresponding text\n",
    "choice_text = {}\n",
    "# stores the question id and the corresponding text\n",
    "# TODO: do it soon\n",
    "# ques_text = {}"
   ]
  },
  {
   "cell_type": "code",
   "execution_count": 5,
   "metadata": {},
   "outputs": [],
   "source": [
    "# returns the question for a given patent_id\n",
    "# uses parent_if to find the question\n",
    "# requires question data to be declared in the global scope\n",
    "def find_ques(parent_id):\n",
    "    return question_data[parent_id][\"description\"]\n",
    "    \n",
    "# example \n",
    "# print(find_ques(parent_id=\"3X\"))"
   ]
  },
  {
   "cell_type": "code",
   "execution_count": 6,
   "metadata": {},
   "outputs": [],
   "source": [
    "# add the relevant data (relates parent_id, chocie_id, question, chocice text and default option) to bs_data from choice_data\n",
    "# arg : parent_id (id of the previous choice)\n",
    "# expects question_data and choce_data is present in the global scope\n",
    "# add the id and corresponding choice text to the choice_text \n",
    "\n",
    "def gen_data(parent_id):\n",
    "    temp = {}\n",
    "    # Some options may not have any Question \n",
    "    # example: single options choice are mostlikely not to have any question\n",
    "    try:\n",
    "        temp['question'] = find_ques(parent_id)\n",
    "    except:\n",
    "        # do nothing\n",
    "        pass\n",
    "        \n",
    "    data = choice_data[parent_id]\n",
    "    for items in data:\n",
    "        if \"choices\" in items:\n",
    "            temp[\"defaultChoiceIndex\"] = items[\"defaultChoiceIndex\"]\n",
    "            # some choices don't have any text\n",
    "            # example: there is a choice point where the user need to type the phone no \n",
    "            # correct phone no will be one choice and the wrong one will be the other.\n",
    "            try:\n",
    "                temp[\"choices\"] = [{\"id\": item[\"id\"], \"text\": item[\"text\"], \"segmentId\": item[\"sg\" if \"sg\" in item else \"segmentId\"]} for item in items[\"choices\"]]\n",
    "                \n",
    "                # adding the choice id and text to choice_text\n",
    "                for choice in temp[\"choices\"]:\n",
    "                    if choice[\"id\"] not in choice_text:\n",
    "                        choice_text[choice[\"segmentId\"]] = choice['text']\n",
    "            except:\n",
    "                # do something to add info about the phone no.\n",
    "                # if ph no is available add else add xxx\n",
    "                temp[\"choices\"] = [{\"id\": item[\"id\"], \"code\": item[\"code\"] if \"code\" in item else \"xxx\"} for item in items[\"choices\"]]\n",
    "                \n",
    "    bs_data[parent_id]=temp\n"
   ]
  },
  {
   "cell_type": "code",
   "execution_count": 7,
   "metadata": {},
   "outputs": [],
   "source": [
    "# returns the default choice for a given parent id\n",
    "# expects the bs_data (created already) is available in the global scope\n",
    "# bs_data relates parent_id, chocie_id, question, chocice text and default option\n",
    "\n",
    "def find_default(parent_id):\n",
    "    return bs_data[parent_id][\"choices\"][bs_data[parent_id][\"defaultChoiceIndex\"]]\n",
    "\n",
    "    "
   ]
  },
  {
   "cell_type": "code",
   "execution_count": 8,
   "metadata": {},
   "outputs": [],
   "source": [
    "def get_choice_text(choice_id):\n",
    "    with open('./choice_text.json', 'r') as f:\n",
    "        data = json.load(f)\n",
    "    return(data[choice_id])"
   ]
  },
  {
   "cell_type": "code",
   "execution_count": 9,
   "metadata": {},
   "outputs": [],
   "source": [
    "# examples\n",
    "\n",
    "# finds the question and the choice id with text for a given parent id \n",
    "# parent id is the id of the preious choice\n",
    "# find_choices(parent_id=\"1A\")\n",
    "\n",
    "# print(find_default(\"1A\"))\n",
    "# find_ques(parent_id=\"2G\")"
   ]
  },
  {
   "cell_type": "code",
   "execution_count": 10,
   "metadata": {},
   "outputs": [],
   "source": [
    "# storing all id's\n",
    "parent_ids=choice_data.keys();"
   ]
  },
  {
   "cell_type": "code",
   "execution_count": 11,
   "metadata": {
    "scrolled": true
   },
   "outputs": [],
   "source": [
    "# generating data for all the id's\n",
    "for parent_id in parent_ids:\n",
    "#     print(parent_id)\n",
    "    gen_data(parent_id)\n",
    "    \n",
    "    \n",
    "blank_keys = []\n",
    "for key, data in bs_data.items():\n",
    "    if len(data) == 0:\n",
    "        blank_keys.append(key) \n",
    "for key in blank_keys:\n",
    "    del bs_data[key]\n",
    "len(bs_data)\n",
    "    \n",
    "# storing main data\n",
    "with open('bs_data.json', 'w') as json_file:\n",
    "  json.dump(bs_data, json_file)\n",
    "\n",
    "# saving the choice text\n",
    "with open('choice_text.json', 'w') as json_file:\n",
    "  json.dump(choice_text, json_file)"
   ]
  },
  {
   "cell_type": "markdown",
   "metadata": {},
   "source": [
    "# Data cl2"
   ]
  },
  {
   "cell_type": "markdown",
   "metadata": {},
   "source": [
    "- first, find what is selected\n",
    "- second, find if it was default or non-default"
   ]
  },
  {
   "cell_type": "code",
   "execution_count": 12,
   "metadata": {},
   "outputs": [],
   "source": [
    "def decode_cl2(cl2_path=\"./data_cl2.json\"):\n",
    "    print(\"Processing : \"+cl2_path)\n",
    "    with open(cl2_path, 'r') as f:\n",
    "        data_cl2 = json.load(f)\n",
    "    \n",
    "    selected_coice_id = \"\"\n",
    "    parent_id = \"\"\n",
    "    reverseDeltas = data_cl2[\"reverseDeltas\"]\n",
    "    \n",
    "    for items in reverseDeltas:\n",
    "        for item in items:\n",
    "            if type(item) == dict and \"view\" in item:\n",
    "                if item[\"view\"] == \"ikoChoicePointOption\":\n",
    "                    selected_coice_id = item[\"trackingInfo\"][\"segmentId\"]\n",
    "                elif item[\"view\"] == \"ikoChoicePoint\":\n",
    "                    parent_id = item[\"trackingInfo\"][\"momentId\"].split(\"_\")[1]\n",
    "    \n",
    "    if selected_coice_id == \"\" or parent_id == \"\":\n",
    "        print(\"error: looks Like invalid cl2\")\n",
    "        \n",
    "    else:\n",
    "        print('-'*10)\n",
    "        try:\n",
    "            print(\"Selected choice ID :\"+ selected_coice_id)\n",
    "            print(\"Selected choice :\"+get_choice_text(selected_coice_id))\n",
    "        except:\n",
    "            print(\"Opsee! error\")\n",
    "        try:\n",
    "            print(\"Question Id: \"+parent_id)\n",
    "            print(\"Question text: \"+find_ques(parent_id))\n",
    "        except:\n",
    "            print(\"No Question present for this choice! \")\n",
    "            with open('./bs_data.json', 'r') as f:\n",
    "                bs_data = json.load(f)\n",
    "            print(\"This question has {} options\".format(len(bs_data[parent_id][\"choices\"])))\n",
    "\n",
    "        print(\"Default chocie: \"+str(find_default(parent_id)))\n",
    "        print('-'*10)\n",
    "    "
   ]
  },
  {
   "cell_type": "code",
   "execution_count": 13,
   "metadata": {},
   "outputs": [
    {
     "name": "stdout",
     "output_type": "stream",
     "text": [
      "Processing : ./cl2/data_cl2_0.json\n",
      "----------\n",
      "Selected choice ID :1E\n",
      "Selected choice :SUGAR PUFFS\n",
      "Question Id: 1A\n",
      "Question text: Which Cereal?\n",
      "Default chocie: {'id': '1E', 'text': 'SUGAR PUFFS', 'segmentId': '1E'}\n",
      "----------\n"
     ]
    }
   ],
   "source": [
    "decode_cl2(\"./cl2/data_cl2_0.json\")"
   ]
  },
  {
   "cell_type": "code",
   "execution_count": 16,
   "metadata": {},
   "outputs": [],
   "source": [
    "# renameing all files\n",
    "i = 0\n",
    "for filename in os.listdir(\"./cl2/cl2\"): \n",
    "        dst =str(i) + \"_cl2.json\"\n",
    "        src ='./cl2/cl2/'+ filename \n",
    "        dst ='./cl2/cl2/'+ dst \n",
    "          \n",
    "        # rename() function will \n",
    "        # rename all the files \n",
    "        os.rename(src, dst) \n",
    "        i += 1"
   ]
  },
  {
   "cell_type": "code",
   "execution_count": 17,
   "metadata": {},
   "outputs": [
    {
     "name": "stdout",
     "output_type": "stream",
     "text": [
      "Processing : ./cl2/cl2/12_cl2.json\n",
      "error: looks Like invalid cl2\n",
      "Processing : ./cl2/cl2/10_cl2.json\n",
      "error: looks Like invalid cl2\n",
      "Processing : ./cl2/cl2/23_cl2.json\n",
      "error: looks Like invalid cl2\n",
      "Processing : ./cl2/cl2/27_cl2.json\n",
      "error: looks Like invalid cl2\n",
      "Processing : ./cl2/cl2/8_cl2.json\n",
      "error: looks Like invalid cl2\n",
      "Processing : ./cl2/cl2/6_cl2.json\n",
      "error: looks Like invalid cl2\n",
      "Processing : ./cl2/cl2/18_cl2.json\n",
      "error: looks Like invalid cl2\n",
      "Processing : ./cl2/cl2/26_cl2.json\n",
      "error: looks Like invalid cl2\n",
      "Processing : ./cl2/cl2/13_cl2.json\n",
      "error: looks Like invalid cl2\n",
      "Processing : ./cl2/cl2/15_cl2.json\n",
      "error: looks Like invalid cl2\n",
      "Processing : ./cl2/cl2/22_cl2.json\n",
      "error: looks Like invalid cl2\n",
      "Processing : ./cl2/cl2/31_cl2.json\n",
      "error: looks Like invalid cl2\n",
      "Processing : ./cl2/cl2/0_cl2.json\n",
      "error: looks Like invalid cl2\n",
      "Processing : ./cl2/cl2/17_cl2.json\n",
      "error: looks Like invalid cl2\n",
      "Processing : ./cl2/cl2/25_cl2.json\n",
      "error: looks Like invalid cl2\n",
      "Processing : ./cl2/cl2/3_cl2.json\n",
      "error: looks Like invalid cl2\n",
      "Processing : ./cl2/cl2/9_cl2.json\n",
      "error: looks Like invalid cl2\n",
      "Processing : ./cl2/cl2/29_cl2.json\n",
      "error: looks Like invalid cl2\n",
      "Processing : ./cl2/cl2/20_cl2.json\n",
      "error: looks Like invalid cl2\n",
      "Processing : ./cl2/cl2/2_cl2.json\n",
      "error: looks Like invalid cl2\n",
      "Processing : ./cl2/cl2/24_cl2.json\n",
      "error: looks Like invalid cl2\n",
      "Processing : ./cl2/cl2/21_cl2.json\n",
      "error: looks Like invalid cl2\n",
      "Processing : ./cl2/cl2/14_cl2.json\n",
      "----------\n",
      "Selected choice ID :3Wbf\n",
      "Opsee! error\n",
      "Question Id: 3Xcd\n",
      "Question text: Pills\n",
      "Default chocie: {'id': 'nsg-ThrowThemChoice', 'text': 'THROW THEM AWAY', 'segmentId': 'ThrowThemChoice'}\n",
      "----------\n",
      "Processing : ./cl2/cl2/16_cl2.json\n",
      "error: looks Like invalid cl2\n",
      "Processing : ./cl2/cl2/30_cl2.json\n",
      "error: looks Like invalid cl2\n",
      "Processing : ./cl2/cl2/19_cl2.json\n",
      "error: looks Like invalid cl2\n",
      "Processing : ./cl2/cl2/1_cl2.json\n",
      "error: looks Like invalid cl2\n",
      "Processing : ./cl2/cl2/28_cl2.json\n",
      "----------\n",
      "Selected choice ID :8L\n",
      "Selected choice :STEFAN\n",
      "Question Id: 3P\n",
      "Question text: Who Jumps?\n",
      "Default chocie: {'id': '8L', 'text': 'STEFAN', 'segmentId': '8L'}\n",
      "----------\n",
      "Processing : ./cl2/cl2/5_cl2.json\n",
      "error: looks Like invalid cl2\n",
      "Processing : ./cl2/cl2/11_cl2.json\n",
      "error: looks Like invalid cl2\n",
      "Processing : ./cl2/cl2/7_cl2.json\n",
      "error: looks Like invalid cl2\n",
      "Processing : ./cl2/cl2/4_cl2.json\n",
      "----------\n",
      "Selected choice ID :No\n",
      "Opsee! error\n",
      "Question Id: 2B\n",
      "Question text: Which Record?\n",
      "Default chocie: {'id': '1R', 'text': 'PHAEDRA', 'segmentId': '1R'}\n",
      "----------\n"
     ]
    }
   ],
   "source": [
    "for cl2 in os.listdir(\"./cl2/cl2\"):\n",
    "    decode_cl2(\"./cl2/cl2/\"+cl2)"
   ]
  },
  {
   "cell_type": "code",
   "execution_count": null,
   "metadata": {},
   "outputs": [],
   "source": []
  }
 ],
 "metadata": {
  "kernelspec": {
   "display_name": "Python 3",
   "language": "python",
   "name": "python3"
  },
  "language_info": {
   "codemirror_mode": {
    "name": "ipython",
    "version": 3
   },
   "file_extension": ".py",
   "mimetype": "text/x-python",
   "name": "python",
   "nbconvert_exporter": "python",
   "pygments_lexer": "ipython3",
   "version": "3.6.8"
  }
 },
 "nbformat": 4,
 "nbformat_minor": 2
}
